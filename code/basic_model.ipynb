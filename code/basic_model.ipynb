{
 "cells": [
  {
   "cell_type": "markdown",
   "metadata": {},
   "source": [
    "# Baseline Models\n",
    "\n",
    "Basic models using a keyword vector and \"traditional\" regression models."
   ]
  },
  {
   "cell_type": "markdown",
   "metadata": {},
   "source": [
    "First let's load the dataset in to memory. (Check out the readme for information on getting the data)"
   ]
  },
  {
   "cell_type": "code",
   "execution_count": 2,
   "metadata": {
    "collapsed": false
   },
   "outputs": [
    {
     "name": "stdout",
     "output_type": "stream",
     "text": [
      "Dataset:\n"
     ]
    },
    {
     "data": {
      "text/html": [
       "<div>\n",
       "<table border=\"1\" class=\"dataframe\">\n",
       "  <thead>\n",
       "    <tr style=\"text-align: right;\">\n",
       "      <th></th>\n",
       "      <th>retweets</th>\n",
       "      <th>followers</th>\n",
       "      <th>text</th>\n",
       "    </tr>\n",
       "  </thead>\n",
       "  <tbody>\n",
       "    <tr>\n",
       "      <th>0</th>\n",
       "      <td>1</td>\n",
       "      <td>190</td>\n",
       "      <td>via #newzsocial H7N9 Bird Flu Cases Rise To 51...</td>\n",
       "    </tr>\n",
       "    <tr>\n",
       "      <th>1</th>\n",
       "      <td>1</td>\n",
       "      <td>760</td>\n",
       "      <td>China reports 5th H7N9 bird flu death  _HTTPTW...</td>\n",
       "    </tr>\n",
       "    <tr>\n",
       "      <th>2</th>\n",
       "      <td>1</td>\n",
       "      <td>3168</td>\n",
       "      <td>La cepa H7N9 que origina la gripe aviar es gra...</td>\n",
       "    </tr>\n",
       "    <tr>\n",
       "      <th>3</th>\n",
       "      <td>1</td>\n",
       "      <td>551</td>\n",
       "      <td>Hah virus H7N9?virus H5N1 aja blm dpt dimusnah...</td>\n",
       "    </tr>\n",
       "    <tr>\n",
       "      <th>4</th>\n",
       "      <td>1</td>\n",
       "      <td>118</td>\n",
       "      <td>H7N9 Flu: China Investigating Possible Human-T...</td>\n",
       "    </tr>\n",
       "  </tbody>\n",
       "</table>\n",
       "</div>"
      ],
      "text/plain": [
       "   retweets  followers                                               text\n",
       "0         1        190  via #newzsocial H7N9 Bird Flu Cases Rise To 51...\n",
       "1         1        760  China reports 5th H7N9 bird flu death  _HTTPTW...\n",
       "2         1       3168  La cepa H7N9 que origina la gripe aviar es gra...\n",
       "3         1        551  Hah virus H7N9?virus H5N1 aja blm dpt dimusnah...\n",
       "4         1        118  H7N9 Flu: China Investigating Possible Human-T..."
      ]
     },
     "metadata": {},
     "output_type": "display_data"
    },
    {
     "name": "stdout",
     "output_type": "stream",
     "text": [
      "Total rows: 194602\n"
     ]
    }
   ],
   "source": [
    "%matplotlib inline\n",
    "import pandas\n",
    "import sklearn\n",
    "import numpy as np\n",
    "from scipy import stats\n",
    "from IPython.display import display\n",
    "from sklearn.cross_validation import train_test_split\n",
    "from sklearn.metrics import mean_squared_error\n",
    "\n",
    "data = pandas.read_csv(\"/Users/toddbodnar/Dropbox/retweets_h7n9.csv\",encoding='latin-1',names=[\"retweets\",\"followers\",\"text\"],sep=\"\\t\")\n",
    "print(\"Dataset:\")\n",
    "display(data.head())\n",
    "print(\"Total rows: \"+str(len(data[[1]])))\n",
    "\n",
    "data_train, data_test = train_test_split(data,test_size = 0.9)"
   ]
  },
  {
   "cell_type": "markdown",
   "metadata": {
    "collapsed": true
   },
   "source": [
    "## A Trivial Model\n",
    "\n",
    "We'll start with a really simple model where\n",
    "\n",
    "$$retweets = \\alpha * followers + \\beta$$"
   ]
  },
  {
   "cell_type": "code",
   "execution_count": 3,
   "metadata": {
    "collapsed": false,
    "scrolled": true
   },
   "outputs": [],
   "source": [
    "#print(data[[1,2]])\n",
    "simple_model = stats.linregress(data_train[[1,0]])\n",
    "#print(simple_model)"
   ]
  },
  {
   "cell_type": "markdown",
   "metadata": {},
   "source": [
    "Note that the two variables are **not** normally distributed, so we'll use Spearman's Rank coefficient (t) instead of correlation."
   ]
  },
  {
   "cell_type": "code",
   "execution_count": 4,
   "metadata": {
    "collapsed": false,
    "scrolled": true
   },
   "outputs": [
    {
     "data": {
      "image/png": "[encoded data removed]",
      "text/plain": [
       "<matplotlib.figure.Figure at 0x10ae1d7b8>"
      ]
     },
     "metadata": {},
     "output_type": "display_data"
    },
    {
     "data": {
      "text/html": [
       "<div>\n",
       "<table border=\"1\" class=\"dataframe\">\n",
       "  <thead>\n",
       "    <tr style=\"text-align: right;\">\n",
       "      <th></th>\n",
       "      <th>Model</th>\n",
       "      <th>r (train)</th>\n",
       "      <th>MSE (train)</th>\n",
       "      <th>t (train)</th>\n",
       "      <th>r (test)</th>\n",
       "      <th>MSE (test)</th>\n",
       "      <th>t (test)</th>\n",
       "    </tr>\n",
       "  </thead>\n",
       "  <tbody>\n",
       "    <tr>\n",
       "      <th>0</th>\n",
       "      <td>Simple</td>\n",
       "      <td>0.515568</td>\n",
       "      <td>17.756869</td>\n",
       "      <td>0.293983</td>\n",
       "      <td>0.492567</td>\n",
       "      <td>21.61141</td>\n",
       "      <td>0.290765</td>\n",
       "    </tr>\n",
       "  </tbody>\n",
       "</table>\n",
       "</div>"
      ],
      "text/plain": [
       "    Model  r (train)  MSE (train)  t (train)  r (test)  MSE (test)  t (test)\n",
       "0  Simple   0.515568    17.756869   0.293983  0.492567    21.61141  0.290765"
      ]
     },
     "metadata": {},
     "output_type": "display_data"
    }
   ],
   "source": [
    "import matplotlib.pyplot as plt\n",
    "\n",
    "plt.scatter(data_train[[1]],data_train[[0]])\n",
    "plt.xlim([0,1.2e7])\n",
    "plt.ylim([0,1200])\n",
    "plt.xlabel(\"Followers\")\n",
    "plt.ylabel(\"Retweets\")\n",
    "plt.show()\n",
    "\n",
    "prediction_train = data_train[[1]]*simple_model.slope + simple_model.intercept\n",
    "prediction_test = data_test[[1]]*simple_model.slope + simple_model.intercept\n",
    "model_fits = pandas.DataFrame([[\"Simple\",stats.pearsonr(prediction_train,data_train[[0]])[0][0],mean_squared_error(prediction_train,data_train[[0]]),stats.spearmanr(prediction_train,data_train[[0]])[0],stats.pearsonr(prediction_test,data_test[[0]])[0][0],mean_squared_error(prediction_test,data_test[[0]]),stats.spearmanr(prediction_test,data_test[[0]])[0]]],columns = [\"Model\",\"r (train)\",\"MSE (train)\",\"t (train)\",\"r (test)\",\"MSE (test)\",\"t (test)\"])\n",
    "\n",
    "display(model_fits)"
   ]
  },
  {
   "cell_type": "markdown",
   "metadata": {
    "collapsed": true
   },
   "source": [
    "We're also using a 90%/10% train/test split of the initial data, this will help control overfitting later on."
   ]
  },
  {
   "cell_type": "markdown",
   "metadata": {},
   "source": [
    "## Keyword Vector Models\n",
    "\n",
    "We'll now build fancier models based on vectors of keywords derived from the text of each tweet. For this demo, we're just going to use a binary response for each keyword (if keyword n is in the tweet, then element n of the vector is 1 and 0 otherwise.) There are more advanced approaches based on the frequencies of each word in the tweet or dataset, but, from previous experience, they don't do much better (probably because tweets are short and *roughly* the same length as each other, so a word will tend to appear either once or not at all in a tweet which would translate to either a frequency of 1/w or 0, where w is the average number of words in a tweet.)\n",
    "\n",
    "First, let's look at the 100 most common words in our dataset:"
   ]
  },
  {
   "cell_type": "code",
   "execution_count": 5,
   "metadata": {
    "collapsed": false
   },
   "outputs": [
    {
     "name": "stdout",
     "output_type": "stream",
     "text": [
      "['11', '20', '2013', '_httptweetco________', 'about', 'and', 'are', 'as', 'at', 'autism', 'aves', 'avian', 'aviar', 'aviária', 'be', 'beijing', 'bird', 'birdflu', 'burung', 'by', 'case', 'cases', 'casos', 'children', 'china', 'clinics', 'confirmed', 'da', 'de', 'death', 'deaths', 'del', 'di', 'educacionliberadora', 'el', 'en', 'epidemic', 'first', 'flu', 'for', 'from', 'gripe', 'grippe', 'h7n9', 'has', 'have', 'health', 'human', 'humanos', 'in', 'infection', 'influenza', 'is', 'it', 'jab', 'kasus', 'la', 'los', 'man', 'measles', 'mmr', 'more', 'más', 'new', 'news', 'no', 'not', 'number', 'of', 'oms', 'on', 'one', 'outbreak', 'over', 'people', 'por', 'que', 'reported', 'reports', 'rise', 'risk', 'rt', 'se', 'shanghai', 'spread', 'strain', 'swansea', 'taiwan', 'that', 'the', 'this', 'to', 'two', 'un', 'via', 'virus', 'vírus', 'who', 'with', 'world']\n"
     ]
    }
   ],
   "source": [
    "from sklearn.feature_extraction.text import CountVectorizer\n",
    "\n",
    "textToVector = CountVectorizer(min_df = 5, max_features = 100, binary=True)\n",
    "train_text = textToVector.fit_transform(data_train[\"text\"])\n",
    "\n",
    "print(textToVector.get_feature_names())"
   ]
  },
  {
   "cell_type": "markdown",
   "metadata": {},
   "source": [
    "You should see a lot of words like \"and,\" \"of\" or \"the\" which probably don't have much of an effect on the retweet rate, so we'll discard them."
   ]
  },
  {
   "cell_type": "code",
   "execution_count": 6,
   "metadata": {
    "collapsed": false
   },
   "outputs": [
    {
     "name": "stdout",
     "output_type": "stream",
     "text": [
      "['11', '14', '16', '20', '2013', '21', '_httptweetco________', 'april', 'autism', 'autistic', 'aves', 'aviaire', 'avian', 'aviar', 'aviaria', 'aviária', 'awareness', 'baru', 'beijing', 'bird', 'birdflu', 'burung', 'case', 'cases', 'casos', 'cepa', 'children', 'china', 'chine', 'chinese', 'clinics', 'confirma', 'confirmed', 'da', 'death', 'deaths', 'del', 'di', 'died', 'educacionliberadora', 'el', 'en', 'entre', 'epidemic', 'es', 'flu', 'gripe', 'grippe', 'h5n1', 'h7n9', 'health', 'human', 'humanos', 'infection', 'influenza', 'jab', 'kasus', 'ke', 'la', 'le', 'lethal', 'los', 'man', 'measles', 'mmr', 'muertos', 'más', 'na', 'new', 'news', 'number', 'officials', 'oms', 'outbreak', 'para', 'people', 'por', 'poultry', 'que', 'reported', 'reports', 'rise', 'risk', 'rt', 'say', 'says', 'se', 'shanghai', 'spread', 'strain', 'swansea', 'taiwan', 'una', 'update', 'vaccination', 'vaccine', 'virus', 'vírus', 'wales', 'world']\n"
     ]
    }
   ],
   "source": [
    "textToVector = CountVectorizer(min_df = 5, max_features = 100, binary=True, stop_words='english')\n",
    "train_text = textToVector.fit_transform(data_train[\"text\"])\n",
    "\n",
    "print(textToVector.get_feature_names())"
   ]
  },
  {
   "cell_type": "markdown",
   "metadata": {},
   "source": [
    "We'll now feed these vectors into a regression model, along with the follower count, to predict the number of retweets. Since we don't know which models will do better or worse, we'll test several models (linear regression, support vector regression, perceptron-based regression, and gradient boosting) and the maximum number of keywords to include in the vector (100,500, or all of them).\n",
    "\n",
    "To speed this up, we're going to parallalize the models' evaluations. By default, we'll only use two threads, but you can increase that number (below) if you feel like your machine can handle it."
   ]
  },
  {
   "cell_type": "code",
   "execution_count": 7,
   "metadata": {
    "collapsed": true
   },
   "outputs": [],
   "source": [
    "number_of_threads = 2 ##Default is 2, increasing this should decrease execution time, but increase resources used. May effect the system's performance if set too high!\n",
    "extreme = False ##do more models and higher dimensionality vectors (but much slower)"
   ]
  },
  {
   "cell_type": "code",
   "execution_count": 14,
   "metadata": {
    "collapsed": false
   },
   "outputs": [
    {
     "data": {
      "text/html": [
       "<div>\n",
       "<table border=\"1\" class=\"dataframe\">\n",
       "  <thead>\n",
       "    <tr style=\"text-align: right;\">\n",
       "      <th></th>\n",
       "      <th>Model</th>\n",
       "      <th>r (train)</th>\n",
       "      <th>MSE (train)</th>\n",
       "      <th>t (train)</th>\n",
       "      <th>r (test)</th>\n",
       "      <th>MSE (test)</th>\n",
       "      <th>t (test)</th>\n",
       "    </tr>\n",
       "  </thead>\n",
       "  <tbody>\n",
       "    <tr>\n",
       "      <th>0</th>\n",
       "      <td>Simple</td>\n",
       "      <td>0.515568</td>\n",
       "      <td>17.756869</td>\n",
       "      <td>0.293983</td>\n",
       "      <td>0.492567</td>\n",
       "      <td>21.611410</td>\n",
       "      <td>0.290765</td>\n",
       "    </tr>\n",
       "    <tr>\n",
       "      <th>0</th>\n",
       "      <td>linear_regression_100</td>\n",
       "      <td>0.530908</td>\n",
       "      <td>17.368627</td>\n",
       "      <td>0.191367</td>\n",
       "      <td>0.491953</td>\n",
       "      <td>21.636319</td>\n",
       "      <td>0.192500</td>\n",
       "    </tr>\n",
       "    <tr>\n",
       "      <th>0</th>\n",
       "      <td>linear_regression_500</td>\n",
       "      <td>0.557237</td>\n",
       "      <td>16.675714</td>\n",
       "      <td>0.188714</td>\n",
       "      <td>0.479865</td>\n",
       "      <td>22.039490</td>\n",
       "      <td>0.173111</td>\n",
       "    </tr>\n",
       "    <tr>\n",
       "      <th>0</th>\n",
       "      <td>linear_regression_10</td>\n",
       "      <td>0.520659</td>\n",
       "      <td>17.629288</td>\n",
       "      <td>0.200746</td>\n",
       "      <td>0.493559</td>\n",
       "      <td>21.585064</td>\n",
       "      <td>0.203473</td>\n",
       "    </tr>\n",
       "    <tr>\n",
       "      <th>0</th>\n",
       "      <td>linear_regression_50</td>\n",
       "      <td>0.528654</td>\n",
       "      <td>17.426391</td>\n",
       "      <td>0.200380</td>\n",
       "      <td>0.493230</td>\n",
       "      <td>21.597827</td>\n",
       "      <td>0.203191</td>\n",
       "    </tr>\n",
       "    <tr>\n",
       "      <th>0</th>\n",
       "      <td>linear_regression_100</td>\n",
       "      <td>0.530908</td>\n",
       "      <td>17.368627</td>\n",
       "      <td>0.191367</td>\n",
       "      <td>0.491953</td>\n",
       "      <td>21.636319</td>\n",
       "      <td>0.192500</td>\n",
       "    </tr>\n",
       "    <tr>\n",
       "      <th>0</th>\n",
       "      <td>linear_regression_500</td>\n",
       "      <td>0.557237</td>\n",
       "      <td>16.675714</td>\n",
       "      <td>0.188714</td>\n",
       "      <td>0.479865</td>\n",
       "      <td>22.039490</td>\n",
       "      <td>0.173111</td>\n",
       "    </tr>\n",
       "  </tbody>\n",
       "</table>\n",
       "</div>"
      ],
      "text/plain": [
       "                   Model  r (train)  MSE (train)  t (train)  r (test)  \\\n",
       "0                 Simple   0.515568    17.756869   0.293983  0.492567   \n",
       "0  linear_regression_100   0.530908    17.368627   0.191367  0.491953   \n",
       "0  linear_regression_500   0.557237    16.675714   0.188714  0.479865   \n",
       "0   linear_regression_10   0.520659    17.629288   0.200746  0.493559   \n",
       "0   linear_regression_50   0.528654    17.426391   0.200380  0.493230   \n",
       "0  linear_regression_100   0.530908    17.368627   0.191367  0.491953   \n",
       "0  linear_regression_500   0.557237    16.675714   0.188714  0.479865   \n",
       "\n",
       "   MSE (test)  t (test)  \n",
       "0   21.611410  0.290765  \n",
       "0   21.636319  0.192500  \n",
       "0   22.039490  0.173111  \n",
       "0   21.585064  0.203473  \n",
       "0   21.597827  0.203191  \n",
       "0   21.636319  0.192500  \n",
       "0   22.039490  0.173111  "
      ]
     },
     "metadata": {},
     "output_type": "display_data"
    }
   ],
   "source": [
    "import queue\n",
    "import threading\n",
    "import sklearn.linear_model\n",
    "from scipy.sparse import csr_matrix\n",
    "\n",
    "\n",
    "\n",
    "def worker_thread():\n",
    "    while(True):\n",
    "        job = jobQueue.get()\n",
    "        if job is None:\n",
    "            break\n",
    "        model = sklearn.base.clone(models[job[\"model_name\"]])\n",
    "        textToVector = CountVectorizer(min_df = 5, max_features = job[\"max_features\"], binary=True, stop_words='english')\n",
    "        train_text = (textToVector.fit_transform(data_train[[2]][\"text\"])).todense()\n",
    "        test_text = (textToVector.transform(data_test[[2]][\"text\"])).todense()\n",
    "        train = np.concatenate((np.array(train_text),np.array(data_train[[1]])),axis=1)\n",
    "        test = np.concatenate((np.array(test_text),np.array(data_test[[1]])),axis=1)\n",
    "        model.fit(train,data_train[[0]][\"retweets\"])\n",
    "        \n",
    "        result = {}\n",
    "        result[\"model_name\"] = job[\"model_name\"]+\"_\"+str(job[\"max_features\"])\n",
    "        result[\"r_train\"] = stats.pearsonr(model.predict(train),data_train[[\"retweets\"]][\"retweets\"])[0]\n",
    "        result[\"r_test\"] = stats.pearsonr(model.predict(test),data_test[[\"retweets\"]][\"retweets\"])[0]\n",
    "        result[\"mse_train\"] = mean_squared_error(model.predict(train),data_train[[\"retweets\"]][\"retweets\"])\n",
    "        result[\"mse_test\"] = mean_squared_error(model.predict(test),data_test[[\"retweets\"]][\"retweets\"])\n",
    "        result[\"t_train\"] = stats.spearmanr(model.predict(train),data_train[[\"retweets\"]][\"retweets\"])[0]\n",
    "        result[\"t_test\"] = stats.spearmanr(model.predict(test),data_test[[\"retweets\"]][\"retweets\"])[0]\n",
    "        \n",
    "        results.append(result)\n",
    "        \n",
    "        \n",
    "        \n",
    "jobQueue = queue.Queue()\n",
    "results = []\n",
    "\n",
    "models = {}\n",
    "models[\"linear_regression\"] = sklearn.linear_model.LinearRegression()\n",
    "\n",
    "\n",
    "key_sizes = [10,50,100,500]\n",
    "\n",
    "if extreme:\n",
    "    key_sizes.append(1000)\n",
    "    key_sizes.append(5000)\n",
    "    key_sizes.append(None)\n",
    "\n",
    "for model in models:\n",
    "    for key_count in key_sizes:\n",
    "        job = {}\n",
    "        job[\"model_name\"] = model\n",
    "        job[\"max_features\"] = key_count\n",
    "        jobQueue.put(job)\n",
    "        \n",
    "threads = []\n",
    "\n",
    "for i in range(number_of_threads):\n",
    "    jobQueue.put(None)\n",
    "    thread = threading.Thread(target=worker_thread)\n",
    "    thread.start()\n",
    "    threads.append(thread)\n",
    "    \n",
    "for thread in threads:\n",
    "    thread.join()\n",
    "    \n",
    "for result in results:\n",
    "    model_fits = model_fits.append(pandas.DataFrame([[result[\"model_name\"],result[\"r_train\"],result[\"mse_train\"],result[\"t_train\"],result[\"r_test\"],result[\"mse_test\"],result[\"t_test\"]]],columns = [\"Model\",\"r (train)\",\"MSE (train)\",\"t (train)\",\"r (test)\",\"MSE (test)\",\"t (test)\"]))\n",
    "\n",
    "display(model_fits)\n"
   ]
  },
  {
   "cell_type": "code",
   "execution_count": null,
   "metadata": {
    "collapsed": true
   },
   "outputs": [],
   "source": []
  }
 ],
 "metadata": {
  "kernelspec": {
   "display_name": "Python 3",
   "language": "python",
   "name": "python3"
  },
  "language_info": {
   "codemirror_mode": {
    "name": "ipython",
    "version": 3
   },
   "file_extension": ".py",
   "mimetype": "text/x-python",
   "name": "python",
   "nbconvert_exporter": "python",
   "pygments_lexer": "ipython3",
   "version": "3.5.1"
  }
 },
 "nbformat": 4,
 "nbformat_minor": 0
}
