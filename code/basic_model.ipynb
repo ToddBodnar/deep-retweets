{
 "cells": [
  {
   "cell_type": "markdown",
   "metadata": {},
   "source": [
    "# Baseline Models\n",
    "\n",
    "Basic models using a keyword vector and \"traditional\" regression models."
   ]
  },
  {
   "cell_type": "markdown",
   "metadata": {},
   "source": [
    "First let's load the dataset in to memory. (Check out the readme for information on getting the data)"
   ]
  },
  {
   "cell_type": "code",
   "execution_count": 1,
   "metadata": {
    "collapsed": false
   },
   "outputs": [
    {
     "name": "stderr",
     "output_type": "stream",
     "text": [
      "/Library/Frameworks/Python.framework/Versions/3.5/lib/python3.5/site-packages/sklearn/cross_validation.py:43: DeprecationWarning: This module has been deprecated in favor of the model_selection module into which all the refactored classes and functions are moved. Also note that the interface of the new CV iterators are different from that of this module. This module will be removed in 0.20.\n",
      "  \"This module will be removed in 0.20.\", DeprecationWarning)\n"
     ]
    },
    {
     "name": "stdout",
     "output_type": "stream",
     "text": [
      "Dataset:\n"
     ]
    },
    {
     "data": {
      "text/html": [
       "<div>\n",
       "<table border=\"1\" class=\"dataframe\">\n",
       "  <thead>\n",
       "    <tr style=\"text-align: right;\">\n",
       "      <th></th>\n",
       "      <th>retweets</th>\n",
       "      <th>followers</th>\n",
       "      <th>text</th>\n",
       "    </tr>\n",
       "  </thead>\n",
       "  <tbody>\n",
       "    <tr>\n",
       "      <th>0</th>\n",
       "      <td>1</td>\n",
       "      <td>190</td>\n",
       "      <td>via #newzsocial H7N9 Bird Flu Cases Rise To 51...</td>\n",
       "    </tr>\n",
       "    <tr>\n",
       "      <th>1</th>\n",
       "      <td>1</td>\n",
       "      <td>760</td>\n",
       "      <td>China reports 5th H7N9 bird flu death  _HTTPTW...</td>\n",
       "    </tr>\n",
       "    <tr>\n",
       "      <th>2</th>\n",
       "      <td>1</td>\n",
       "      <td>3168</td>\n",
       "      <td>La cepa H7N9 que origina la gripe aviar es gra...</td>\n",
       "    </tr>\n",
       "    <tr>\n",
       "      <th>3</th>\n",
       "      <td>1</td>\n",
       "      <td>551</td>\n",
       "      <td>Hah virus H7N9?virus H5N1 aja blm dpt dimusnah...</td>\n",
       "    </tr>\n",
       "    <tr>\n",
       "      <th>4</th>\n",
       "      <td>1</td>\n",
       "      <td>118</td>\n",
       "      <td>H7N9 Flu: China Investigating Possible Human-T...</td>\n",
       "    </tr>\n",
       "  </tbody>\n",
       "</table>\n",
       "</div>"
      ],
      "text/plain": [
       "   retweets  followers                                               text\n",
       "0         1        190  via #newzsocial H7N9 Bird Flu Cases Rise To 51...\n",
       "1         1        760  China reports 5th H7N9 bird flu death  _HTTPTW...\n",
       "2         1       3168  La cepa H7N9 que origina la gripe aviar es gra...\n",
       "3         1        551  Hah virus H7N9?virus H5N1 aja blm dpt dimusnah...\n",
       "4         1        118  H7N9 Flu: China Investigating Possible Human-T..."
      ]
     },
     "metadata": {},
     "output_type": "display_data"
    },
    {
     "name": "stdout",
     "output_type": "stream",
     "text": [
      "Total rows: 194602\n"
     ]
    }
   ],
   "source": [
    "%matplotlib inline\n",
    "import pandas\n",
    "import sklearn\n",
    "import numpy as np\n",
    "from scipy import stats\n",
    "from IPython.display import display\n",
    "from sklearn.cross_validation import train_test_split\n",
    "from sklearn.metrics import mean_squared_error\n",
    "\n",
    "data = pandas.read_csv(\"/Users/toddbodnar/Dropbox/retweets_h7n9.csv\",encoding='latin-1',names=[\"retweets\",\"followers\",\"text\"],sep=\"\\t\")\n",
    "print(\"Dataset:\")\n",
    "display(data.head())\n",
    "print(\"Total rows: \"+str(len(data[[1]])))\n",
    "\n",
    "data_train, data_test = train_test_split(data,test_size = 0.2)\n",
    "data_test, data_validate = train_test_split(data_test,test_size=0.5)"
   ]
  },
  {
   "cell_type": "markdown",
   "metadata": {
    "collapsed": true
   },
   "source": [
    "## A Trivial Model\n",
    "\n",
    "We'll start with a really simple model where\n",
    "\n",
    "$$retweets = \\alpha * followers + \\beta$$"
   ]
  },
  {
   "cell_type": "code",
   "execution_count": 2,
   "metadata": {
    "collapsed": false,
    "scrolled": true
   },
   "outputs": [],
   "source": [
    "#print(data[[1,2]])\n",
    "simple_model = stats.linregress(data_train[[1,0]])\n",
    "#print(simple_model)"
   ]
  },
  {
   "cell_type": "markdown",
   "metadata": {},
   "source": [
    "Note that the two variables are **not** normally distributed, so we'll use Spearman's Rank coefficient (t) instead of correlation."
   ]
  },
  {
   "cell_type": "code",
   "execution_count": 3,
   "metadata": {
    "collapsed": false,
    "scrolled": true
   },
   "outputs": [
    {
     "data": {
      "image/png": "[encoded data removed]",
      "text/plain": [
       "<matplotlib.figure.Figure at 0x10b9c2cf8>"
      ]
     },
     "metadata": {},
     "output_type": "display_data"
    },
    {
     "data": {
      "text/html": [
       "<div>\n",
       "<table border=\"1\" class=\"dataframe\">\n",
       "  <thead>\n",
       "    <tr style=\"text-align: right;\">\n",
       "      <th></th>\n",
       "      <th>Model</th>\n",
       "      <th>r (train)</th>\n",
       "      <th>MSE (train)</th>\n",
       "      <th>t (train)</th>\n",
       "      <th>r (test)</th>\n",
       "      <th>MSE (test)</th>\n",
       "      <th>t (test)</th>\n",
       "      <th>r (validate)</th>\n",
       "      <th>MSE (validate)</th>\n",
       "      <th>t (validate)</th>\n",
       "    </tr>\n",
       "  </thead>\n",
       "  <tbody>\n",
       "    <tr>\n",
       "      <th>0</th>\n",
       "      <td>Simple</td>\n",
       "      <td>0.504794</td>\n",
       "      <td>21.850947</td>\n",
       "      <td>0.29106</td>\n",
       "      <td>0.45404</td>\n",
       "      <td>14.319386</td>\n",
       "      <td>0.302696</td>\n",
       "      <td>0.446562</td>\n",
       "      <td>23.211576</td>\n",
       "      <td>0.279431</td>\n",
       "    </tr>\n",
       "  </tbody>\n",
       "</table>\n",
       "</div>"
      ],
      "text/plain": [
       "    Model  r (train)  MSE (train)  t (train)  r (test)  MSE (test)  t (test)  \\\n",
       "0  Simple   0.504794    21.850947    0.29106   0.45404   14.319386  0.302696   \n",
       "\n",
       "   r (validate)  MSE (validate)  t (validate)  \n",
       "0      0.446562       23.211576      0.279431  "
      ]
     },
     "metadata": {},
     "output_type": "display_data"
    }
   ],
   "source": [
    "import matplotlib.pyplot as plt\n",
    "\n",
    "plt.scatter(data_train[[1]],data_train[[0]])\n",
    "plt.xlim([0,1.2e7])\n",
    "plt.ylim([0,1200])\n",
    "plt.xlabel(\"Followers\")\n",
    "plt.ylabel(\"Retweets\")\n",
    "plt.show()\n",
    "\n",
    "prediction_train = data_train[[1]]*simple_model.slope + simple_model.intercept\n",
    "prediction_test = data_test[[1]]*simple_model.slope + simple_model.intercept\n",
    "prediction_validate = data_validate[[1]]*simple_model.slope + simple_model.intercept\n",
    "model_fits = pandas.DataFrame([[\"Simple\",stats.pearsonr(prediction_train,data_train[[0]])[0][0],mean_squared_error(prediction_train,data_train[[0]]),stats.spearmanr(prediction_train,data_train[[0]])[0],stats.pearsonr(prediction_test,data_test[[0]])[0][0],mean_squared_error(prediction_test,data_test[[0]]),stats.spearmanr(prediction_test,data_test[[0]])[0],stats.pearsonr(prediction_validate,data_validate[[0]])[0][0],mean_squared_error(prediction_validate,data_validate[[0]]),stats.spearmanr(prediction_validate,data_validate[[0]])[0]]],columns = [\"Model\",\"r (train)\",\"MSE (train)\",\"t (train)\",\"r (test)\",\"MSE (test)\",\"t (test)\",\"r (validate)\",\"MSE (validate)\",\"t (validate)\"])\n",
    "\n",
    "display(model_fits)"
   ]
  },
  {
   "cell_type": "markdown",
   "metadata": {
    "collapsed": true
   },
   "source": [
    "We're also using a 90%/10% train/test split of the initial data, this will help control overfitting later on."
   ]
  },
  {
   "cell_type": "markdown",
   "metadata": {},
   "source": [
    "## Keyword Vector Models\n",
    "\n",
    "We'll now build fancier models based on vectors of keywords derived from the text of each tweet. For this demo, we're just going to use a binary response for each keyword (if keyword n is in the tweet, then element n of the vector is 1 and 0 otherwise.) There are more advanced approaches based on the frequencies of each word in the tweet or dataset, but, from previous experience, they don't do much better (probably because tweets are short and *roughly* the same length as each other, so a word will tend to appear either once or not at all in a tweet which would translate to either a frequency of 1/w or 0, where w is the average number of words in a tweet.)\n",
    "\n",
    "First, let's look at the 100 most common words in our dataset:"
   ]
  },
  {
   "cell_type": "code",
   "execution_count": 4,
   "metadata": {
    "collapsed": false
   },
   "outputs": [
    {
     "name": "stdout",
     "output_type": "stream",
     "text": [
      "['11', '20', '2013', '_httptweetco________', 'about', 'and', 'are', 'as', 'at', 'autism', 'aves', 'aviaire', 'avian', 'aviar', 'aviária', 'be', 'beijing', 'bird', 'birdflu', 'burung', 'by', 'case', 'cases', 'casos', 'children', 'china', 'chine', 'chinese', 'clinics', 'confirmed', 'da', 'de', 'death', 'deaths', 'del', 'di', 'educacionliberadora', 'el', 'en', 'epidemic', 'first', 'flu', 'for', 'from', 'gripe', 'grippe', 'h7n9', 'has', 'have', 'health', 'human', 'humanos', 'in', 'infection', 'influenza', 'is', 'it', 'jab', 'kasus', 'la', 'los', 'man', 'measles', 'mmr', 'more', 'más', 'new', 'news', 'no', 'not', 'number', 'of', 'oms', 'on', 'outbreak', 'over', 'people', 'por', 'que', 'reported', 'reports', 'rise', 'rt', 'se', 'shanghai', 'spread', 'strain', 'swansea', 'taiwan', 'that', 'the', 'to', 'two', 'un', 'via', 'virus', 'vírus', 'who', 'with', 'world']\n"
     ]
    }
   ],
   "source": [
    "from sklearn.feature_extraction.text import CountVectorizer\n",
    "\n",
    "textToVector = CountVectorizer(min_df = 5, max_features = 100, binary=True)\n",
    "train_text = textToVector.fit_transform(data_train[\"text\"])\n",
    "\n",
    "print(textToVector.get_feature_names())"
   ]
  },
  {
   "cell_type": "markdown",
   "metadata": {},
   "source": [
    "You should see a lot of words like \"and,\" \"of\" or \"the\" which probably don't have much of an effect on the retweet rate, so we'll discard them."
   ]
  },
  {
   "cell_type": "code",
   "execution_count": 5,
   "metadata": {
    "collapsed": false
   },
   "outputs": [
    {
     "name": "stdout",
     "output_type": "stream",
     "text": [
      "['11', '14', '16', '20', '2013', '21', '_httptweetco________', 'april', 'autism', 'aves', 'aviaire', 'avian', 'aviar', 'aviaria', 'aviária', 'awareness', 'baru', 'beijing', 'bird', 'birdflu', 'burung', 'case', 'cases', 'casos', 'cepa', 'children', 'china', 'chine', 'chinese', 'clinics', 'confirma', 'confirmed', 'da', 'death', 'deaths', 'del', 'di', 'died', 'educacionliberadora', 'el', 'en', 'entre', 'epidemic', 'es', 'flu', 'gripe', 'grippe', 'h5n1', 'h7n9', 'health', 'human', 'humanos', 'infection', 'influenza', 'jab', 'kasus', 'ke', 'la', 'le', 'los', 'man', 'measles', 'mmr', 'muertos', 'más', 'na', 'new', 'news', 'number', 'officials', 'old', 'oms', 'outbreak', 'para', 'people', 'por', 'poultry', 'que', 'reported', 'reports', 'rise', 'risk', 'rt', 'say', 'says', 'se', 'shanghai', 'spread', 'strain', 'swansea', 'taiwan', 'una', 'update', 'vaccination', 'vaccine', 'virus', 'vírus', 'wales', 'world', 'year']\n"
     ]
    }
   ],
   "source": [
    "textToVector = CountVectorizer(min_df = 5, max_features = 100, binary=True, stop_words='english')\n",
    "train_text = textToVector.fit_transform(data_train[\"text\"])\n",
    "\n",
    "print(textToVector.get_feature_names())"
   ]
  },
  {
   "cell_type": "markdown",
   "metadata": {},
   "source": [
    "We'll now feed these vectors into a regression model, along with the follower count, to predict the number of retweets. Since we don't know which models will do better or worse, we'll test several models (linear regression, support vector regression, perceptron-based regression, and gradient boosting) and the maximum number of keywords to include in the vector (100,500, or all of them).\n",
    "\n",
    "To speed this up, we're going to parallalize the models' evaluations. By default, we'll only use two threads, but you can increase that number (below) if you feel like your machine can handle it."
   ]
  },
  {
   "cell_type": "code",
   "execution_count": 6,
   "metadata": {
    "collapsed": true
   },
   "outputs": [],
   "source": [
    "number_of_threads = 4 ##Default is 2, increasing this should decrease execution time, but increase resources used. May effect the system's performance if set too high!\n",
    "extreme = True ##do more models and higher dimensionality vectors (but much slower)"
   ]
  },
  {
   "cell_type": "code",
   "execution_count": 23,
   "metadata": {
    "collapsed": false
   },
   "outputs": [
    {
     "name": "stdout",
     "output_type": "stream",
     "text": [
      "Building keyword vectors......\n",
      "Building models\n",
      "------------------------------------\n",
      "..............."
     ]
    },
    {
     "name": "stderr",
     "output_type": "stream",
     "text": [
      "Exception in thread Thread-11:\n",
      "Traceback (most recent call last):\n",
      "  File \"/Library/Frameworks/Python.framework/Versions/3.5/lib/python3.5/threading.py\", line 914, in _bootstrap_inner\n",
      "    self.run()\n",
      "  File \"/Library/Frameworks/Python.framework/Versions/3.5/lib/python3.5/threading.py\", line 862, in run\n",
      "    self._target(*self._args, **self._kwargs)\n",
      "  File \"<ipython-input-23-d053fc5641ed>\", line 31, in worker_thread\n",
      "    result[\"r_test\"] = stats.pearsonr(model.predict(test),data_test[[\"retweets\"]][\"retweets\"])[0]\n",
      "  File \"/Library/Frameworks/Python.framework/Versions/3.5/lib/python3.5/site-packages/sklearn/ensemble/gradient_boosting.py\", line 1805, in predict\n",
      "    X = check_array(X, dtype=DTYPE, order=\"C\")\n",
      "  File \"/Library/Frameworks/Python.framework/Versions/3.5/lib/python3.5/site-packages/sklearn/utils/validation.py\", line 375, in check_array\n",
      "    force_all_finite)\n",
      "  File \"/Library/Frameworks/Python.framework/Versions/3.5/lib/python3.5/site-packages/sklearn/utils/validation.py\", line 242, in _ensure_sparse_format\n",
      "    raise TypeError('A sparse matrix was passed, but dense '\n",
      "TypeError: A sparse matrix was passed, but dense data is required. Use X.toarray() to convert to a dense numpy array.\n",
      "\n"
     ]
    },
    {
     "ename": "KeyboardInterrupt",
     "evalue": "",
     "output_type": "error",
     "traceback": [
      "\u001b[0;31m---------------------------------------------------------------------------\u001b[0m",
      "\u001b[0;31mKeyboardInterrupt\u001b[0m                         Traceback (most recent call last)",
      "\u001b[0;32m<ipython-input-23-d053fc5641ed>\u001b[0m in \u001b[0;36m<module>\u001b[0;34m()\u001b[0m\n\u001b[1;32m    103\u001b[0m \u001b[0;34m\u001b[0m\u001b[0m\n\u001b[1;32m    104\u001b[0m \u001b[0;32mfor\u001b[0m \u001b[0mthread\u001b[0m \u001b[0;32min\u001b[0m \u001b[0mthreads\u001b[0m\u001b[0;34m:\u001b[0m\u001b[0;34m\u001b[0m\u001b[0m\n\u001b[0;32m--> 105\u001b[0;31m     \u001b[0mthread\u001b[0m\u001b[0;34m.\u001b[0m\u001b[0mjoin\u001b[0m\u001b[0;34m(\u001b[0m\u001b[0;34m)\u001b[0m\u001b[0;34m\u001b[0m\u001b[0m\n\u001b[0m\u001b[1;32m    106\u001b[0m \u001b[0;34m\u001b[0m\u001b[0m\n\u001b[1;32m    107\u001b[0m \u001b[0mprint\u001b[0m\u001b[0;34m(\u001b[0m\u001b[0;34m)\u001b[0m\u001b[0;34m\u001b[0m\u001b[0m\n",
      "\u001b[0;32m/Library/Frameworks/Python.framework/Versions/3.5/lib/python3.5/threading.py\u001b[0m in \u001b[0;36mjoin\u001b[0;34m(self, timeout)\u001b[0m\n\u001b[1;32m   1052\u001b[0m \u001b[0;34m\u001b[0m\u001b[0m\n\u001b[1;32m   1053\u001b[0m         \u001b[0;32mif\u001b[0m \u001b[0mtimeout\u001b[0m \u001b[0;32mis\u001b[0m \u001b[0;32mNone\u001b[0m\u001b[0;34m:\u001b[0m\u001b[0;34m\u001b[0m\u001b[0m\n\u001b[0;32m-> 1054\u001b[0;31m             \u001b[0mself\u001b[0m\u001b[0;34m.\u001b[0m\u001b[0m_wait_for_tstate_lock\u001b[0m\u001b[0;34m(\u001b[0m\u001b[0;34m)\u001b[0m\u001b[0;34m\u001b[0m\u001b[0m\n\u001b[0m\u001b[1;32m   1055\u001b[0m         \u001b[0;32melse\u001b[0m\u001b[0;34m:\u001b[0m\u001b[0;34m\u001b[0m\u001b[0m\n\u001b[1;32m   1056\u001b[0m             \u001b[0;31m# the behavior of a negative timeout isn't documented, but\u001b[0m\u001b[0;34m\u001b[0m\u001b[0;34m\u001b[0m\u001b[0m\n",
      "\u001b[0;32m/Library/Frameworks/Python.framework/Versions/3.5/lib/python3.5/threading.py\u001b[0m in \u001b[0;36m_wait_for_tstate_lock\u001b[0;34m(self, block, timeout)\u001b[0m\n\u001b[1;32m   1068\u001b[0m         \u001b[0;32mif\u001b[0m \u001b[0mlock\u001b[0m \u001b[0;32mis\u001b[0m \u001b[0;32mNone\u001b[0m\u001b[0;34m:\u001b[0m  \u001b[0;31m# already determined that the C code is done\u001b[0m\u001b[0;34m\u001b[0m\u001b[0m\n\u001b[1;32m   1069\u001b[0m             \u001b[0;32massert\u001b[0m \u001b[0mself\u001b[0m\u001b[0;34m.\u001b[0m\u001b[0m_is_stopped\u001b[0m\u001b[0;34m\u001b[0m\u001b[0m\n\u001b[0;32m-> 1070\u001b[0;31m         \u001b[0;32melif\u001b[0m \u001b[0mlock\u001b[0m\u001b[0;34m.\u001b[0m\u001b[0macquire\u001b[0m\u001b[0;34m(\u001b[0m\u001b[0mblock\u001b[0m\u001b[0;34m,\u001b[0m \u001b[0mtimeout\u001b[0m\u001b[0;34m)\u001b[0m\u001b[0;34m:\u001b[0m\u001b[0;34m\u001b[0m\u001b[0m\n\u001b[0m\u001b[1;32m   1071\u001b[0m             \u001b[0mlock\u001b[0m\u001b[0;34m.\u001b[0m\u001b[0mrelease\u001b[0m\u001b[0;34m(\u001b[0m\u001b[0;34m)\u001b[0m\u001b[0;34m\u001b[0m\u001b[0m\n\u001b[1;32m   1072\u001b[0m             \u001b[0mself\u001b[0m\u001b[0;34m.\u001b[0m\u001b[0m_stop\u001b[0m\u001b[0;34m(\u001b[0m\u001b[0;34m)\u001b[0m\u001b[0;34m\u001b[0m\u001b[0m\n",
      "\u001b[0;31mKeyboardInterrupt\u001b[0m: "
     ]
    }
   ],
   "source": [
    "import queue\n",
    "import threading\n",
    "import sklearn.linear_model\n",
    "import sklearn.ensemble\n",
    "import sklearn.neural_network\n",
    "import sklearn\n",
    "from scipy.sparse import csr_matrix\n",
    "\n",
    "\n",
    "train_transformed = {}\n",
    "test_transformed = {}\n",
    "validate_transformed = {}\n",
    "\n",
    "\n",
    "def worker_thread():\n",
    "    while(True):\n",
    "        job = jobQueue.get()\n",
    "        if job is None:\n",
    "            break\n",
    "        \n",
    "        test = test_transformed[job[\"max_features\"]]\n",
    "        train = train_transformed[job[\"max_features\"]]\n",
    "        validate = validate_transformed[job[\"max_features\"]]\n",
    "        \n",
    "        model = sklearn.base.clone(models[job[\"model_name\"]])\n",
    "        model.fit(train,data_train[[0]][\"retweets\"])\n",
    "        \n",
    "        result = {}\n",
    "        result[\"model_name\"] = job[\"model_name\"]+\"_\"+str(job[\"max_features\"])\n",
    "        result[\"r_train\"] = stats.pearsonr(model.predict(train),data_train[[\"retweets\"]][\"retweets\"])[0]\n",
    "        result[\"r_test\"] = stats.pearsonr(model.predict(test),data_test[[\"retweets\"]][\"retweets\"])[0]\n",
    "        result[\"r_validate\"] = stats.pearsonr(model.predict(validate),data_validate[[\"retweets\"]][\"retweets\"])[0]\n",
    "        result[\"mse_train\"] = mean_squared_error(model.predict(train),data_train[[\"retweets\"]][\"retweets\"])\n",
    "        result[\"mse_test\"] = mean_squared_error(model.predict(test),data_test[[\"retweets\"]][\"retweets\"])\n",
    "        result[\"mse_validate\"] = mean_squared_error(model.predict(validate),data_validate[[\"retweets\"]][\"retweets\"])\n",
    "        result[\"t_train\"] = stats.spearmanr(model.predict(train),data_train[[\"retweets\"]][\"retweets\"])[0]\n",
    "        result[\"t_test\"] = stats.spearmanr(model.predict(test),data_test[[\"retweets\"]][\"retweets\"])[0]\n",
    "        result[\"t_validate\"] = stats.spearmanr(model.predict(validate),data_validate[[\"retweets\"]][\"retweets\"])[0]\n",
    "        \n",
    "        results.append(result)\n",
    "        print(\".\",end='')\n",
    "        \n",
    "        \n",
    "        \n",
    "jobQueue = queue.Queue()\n",
    "results = []\n",
    "\n",
    "models = {}\n",
    "models[\"linear_regression\"] = sklearn.linear_model.LinearRegression()\n",
    "models[\"svm_r\"] = sklearn.svm.SVR()\n",
    "models[\"gradient_100\"] = sklearn.ensemble.GradientBoostingRegressor(n_estimators=100)\n",
    "\n",
    "\n",
    "key_sizes = [10,50,100,500]\n",
    "\n",
    "if extreme:\n",
    "    key_sizes.append(1000)\n",
    "    key_sizes.append(5000)\n",
    "    ##key_sizes.append(None) ##too extreme for me\n",
    "    \n",
    "    models[\"perceptron\"] = sklearn.neural_network.MLPRegressor(hidden_layer_sizes=()) ##requires sklearn 0.18 (currently in dev mode)\n",
    "    models[\"ann_50\"] = sklearn.neural_network.MLPRegressor(hidden_layer_sizes=(50)) ##requires sklearn 0.18 (currently in dev mode)\n",
    "    models[\"ann_100\"] = sklearn.neural_network.MLPRegressor(hidden_layer_sizes=(100)) ##requires sklearn 0.18 (currently in dev mode)\n",
    "    #models[\"ann_50_50\"] = sklearn.neural_network.MLPRegressor(hidden_layer_sizes=(50,50)) ##requires sklearn 0.18 (currently in dev mode)\n",
    "    #models[\"ann_50_100\"] = sklearn.neural_network.MLPRegressor(hidden_layer_sizes=(50,100)) ##requires sklearn 0.18 (currently in dev mode)\n",
    "    #models[\"ann_100_50\"] = sklearn.neural_network.MLPRegressor(hidden_layer_sizes=(100,50)) ##requires sklearn 0.18 (currently in dev mode)\n",
    "    #models[\"ann_100_100\"] = sklearn.neural_network.MLPRegressor(hidden_layer_sizes=(100,100)) ##requires sklearn 0.18 (currently in dev mode)\n",
    "\n",
    "print(\"Building keyword vectors\",end='')\n",
    "    \n",
    "for key_count in key_sizes:\n",
    "    textToVector = CountVectorizer(min_df = 5, max_features = key_count, binary=True, stop_words='english')\n",
    "    train_text = (textToVector.fit_transform(data_train[[2]][\"text\"])).todense()\n",
    "    test_text = (textToVector.transform(data_test[[2]][\"text\"])).todense()\n",
    "    validate_text = (textToVector.transform(data_validate[[2]][\"text\"])).todense()\n",
    "    train_transformed[key_count] = (np.concatenate((np.array(train_text),np.array(data_train[[1]])),axis=1))\n",
    "    test_transformed[key_count] = csr_matrix(np.concatenate((np.array(test_text),np.array(data_test[[1]])),axis=1))\n",
    "    validate_transformed[key_count] = csr_matrix(np.concatenate((np.array(validate_text),np.array(data_validate[[1]])),axis=1))\n",
    "    print(\".\",end='')\n",
    "        \n",
    "print()\n",
    "\n",
    "print(\"Building models\")\n",
    "\n",
    "    \n",
    "for model in models:\n",
    "    for key_count in key_sizes:\n",
    "        job = {}\n",
    "        job[\"model_name\"] = model\n",
    "        job[\"max_features\"] = key_count\n",
    "        jobQueue.put(job)\n",
    "        print(\"-\",end='')\n",
    "        \n",
    "threads = []\n",
    "\n",
    "print()\n",
    "\n",
    "for i in range(number_of_threads):\n",
    "    jobQueue.put(None)\n",
    "    thread = threading.Thread(target=worker_thread)\n",
    "    thread.start()\n",
    "    threads.append(thread)\n",
    "    \n",
    "for thread in threads:\n",
    "    thread.join()\n",
    "    \n",
    "print()\n",
    "\n",
    "for result in results:\n",
    "    model_fits = model_fits.append(pandas.DataFrame([[result[\"model_name\"],result[\"r_train\"],result[\"mse_train\"],result[\"t_train\"],result[\"r_test\"],result[\"mse_test\"],result[\"t_test\"],result[\"r_validate\"],result[\"mse_validate\"],result[\"t_validate\"]]],columns = [\"Model\",\"r (train)\",\"MSE (train)\",\"t (train)\",\"r (test)\",\"MSE (test)\",\"t (test)\",\"r (validate)\",\"MSE (validate)\",\"t (validate)\"]))\n",
    "\n",
    "display(model_fits)\n"
   ]
  },
  {
   "cell_type": "markdown",
   "metadata": {},
   "source": [
    "If you look at the ann performance (if extreme is turned on), you may notice that some models are performing very poorly. This appears to be a convergence issue. For example, let's look at performance on a 500x50x100 network with differing training periods. We'd expect that the performance should increase over time, but it isn't. "
   ]
  },
  {
   "cell_type": "code",
   "execution_count": 21,
   "metadata": {
    "collapsed": false
   },
   "outputs": [
    {
     "name": "stdout",
     "output_type": "stream",
     "text": [
      "Processing\n",
      "----------------------------------------------------------------------------------------------------\n",
      "...................................................................................................."
     ]
    }
   ],
   "source": [
    "\n",
    "test_score = []\n",
    "train_score = []\n",
    "epochs = []\n",
    "\n",
    "print(\"Processing\")\n",
    "\n",
    "for epoch in range(5,5001,50):\n",
    "    print(\"-\",end='')\n",
    "    \n",
    "print()\n",
    "\n",
    "if test_transformed is None:\n",
    "    test_transformed = {}\n",
    "    train_transformed = {}\n",
    "\n",
    "for key_count in [500]:\n",
    "    textToVector = CountVectorizer(min_df = 5, max_features = key_count, binary=True, stop_words='english')\n",
    "    train_text = (textToVector.fit_transform(data_train[[2]][\"text\"])).todense()\n",
    "    test_text = (textToVector.transform(data_test[[2]][\"text\"])).todense()\n",
    "    train_transformed[key_count] = np.concatenate((np.array(train_text),np.array(data_train[[1]])),axis=1)\n",
    "    test_transformed[key_count] = np.concatenate((np.array(test_text),np.array(data_test[[1]])),axis=1)\n",
    "\n",
    "model = sklearn.neural_network.MLPRegressor(hidden_layer_sizes=(50,100),tol=0,max_iter = 50)\n",
    "\n",
    "for epoch in range(5,5001,50):\n",
    "    model.partial_fit(train_transformed[500],data_train[[0]][\"retweets\"])\n",
    "    \n",
    "    test_score.append(stats.spearmanr(model.predict(test_transformed[500]),data_test[[\"retweets\"]][\"retweets\"])[0])\n",
    "    train_score.append(stats.spearmanr(model.predict(train_transformed[500]),data_train[[\"retweets\"]][\"retweets\"])[0])\n",
    "    epochs.append(epoch)\n",
    "    print(\".\",end='')\n",
    "    "
   ]
  },
  {
   "cell_type": "code",
   "execution_count": 22,
   "metadata": {
    "collapsed": false
   },
   "outputs": [
    {
     "data": {
      "image/png": "[encoded data removed]",
      "text/plain": [
       "<matplotlib.figure.Figure at 0x10b21bbe0>"
      ]
     },
     "metadata": {},
     "output_type": "display_data"
    }
   ],
   "source": [
    "plt.plot(epochs,train_score,'r')\n",
    "plt.plot(epochs,test_score,'b')\n",
    "plt.show()"
   ]
  },
  {
   "cell_type": "code",
   "execution_count": 17,
   "metadata": {
    "collapsed": false
   },
   "outputs": [
    {
     "name": "stdout",
     "output_type": "stream",
     "text": [
      "Processing\n",
      "----------------------------------------------------------------------------------------------------\n",
      "...................................................................................................."
     ]
    }
   ],
   "source": [
    "test_score = []\n",
    "train_score = []\n",
    "epochs = []\n",
    "\n",
    "print(\"Processing\")\n",
    "\n",
    "for epoch in range(5,5001,50):\n",
    "    print(\"-\",end='')\n",
    "    \n",
    "print()\n",
    "\n",
    "if test_transformed is None:\n",
    "    test_transformed = {}\n",
    "    train_transformed = {}\n",
    "\n",
    "for key_count in [500]:\n",
    "    textToVector = CountVectorizer(min_df = 5, max_features = key_count, binary=True, stop_words='english')\n",
    "    train_text = (textToVector.fit_transform(data_train[[2]][\"text\"])).todense()\n",
    "    test_text = (textToVector.transform(data_test[[2]][\"text\"])).todense()\n",
    "    train_transformed[key_count] = np.concatenate((np.array(train_text),np.array(data_train[[1]])),axis=1)\n",
    "    test_transformed[key_count] = np.concatenate((np.array(test_text),np.array(data_test[[1]])),axis=1)\n",
    "\n",
    "\n",
    "model = sklearn.neural_network.MLPRegressor(hidden_layer_sizes=(50,100),tol=0,max_iter = 50,learning_rate_init = 0.0000001)\n",
    "\n",
    "for epoch in range(5,5001,50):\n",
    "    model = model.partial_fit(train_transformed[500],data_train[[0]][\"retweets\"])\n",
    "    \n",
    "    test_score.append(stats.spearmanr(model.predict(test_transformed[500]),data_test[[\"retweets\"]][\"retweets\"])[0])\n",
    "    train_score.append(stats.spearmanr(model.predict(train_transformed[500]),data_train[[\"retweets\"]][\"retweets\"])[0])\n",
    "    epochs.append(epoch)\n",
    "    print(\".\",end='')"
   ]
  },
  {
   "cell_type": "code",
   "execution_count": 18,
   "metadata": {
    "collapsed": false
   },
   "outputs": [
    {
     "data": {
      "image/png": "[encoded data removed]",
      "text/plain": [
       "<matplotlib.figure.Figure at 0x10ba604a8>"
      ]
     },
     "metadata": {},
     "output_type": "display_data"
    }
   ],
   "source": [
    "plt.plot(epochs,train_score,'r')\n",
    "plt.plot(epochs,test_score,'b')\n",
    "plt.show()"
   ]
  },
  {
   "cell_type": "markdown",
   "metadata": {},
   "source": [
    "You can experiment with a changing learning rate to control this, too."
   ]
  },
  {
   "cell_type": "code",
   "execution_count": 19,
   "metadata": {
    "collapsed": false
   },
   "outputs": [
    {
     "name": "stdout",
     "output_type": "stream",
     "text": [
      "Processing\n",
      "----------------------------------------------------------------------------------------------------\n",
      "...................................................................................................."
     ]
    }
   ],
   "source": [
    "test_score = []\n",
    "train_score = []\n",
    "epochs = []\n",
    "\n",
    "print(\"Processing\")\n",
    "\n",
    "for epoch in range(5,5001,50):\n",
    "    print(\"-\",end='')\n",
    "    \n",
    "print()\n",
    "\n",
    "if test_transformed is None:\n",
    "    test_transformed = {}\n",
    "    train_transformed = {}\n",
    "\n",
    "for key_count in [500]:\n",
    "    textToVector = CountVectorizer(min_df = 5, max_features = key_count, binary=True, stop_words='english')\n",
    "    train_text = (textToVector.fit_transform(data_train[[2]][\"text\"])).todense()\n",
    "    test_text = (textToVector.transform(data_test[[2]][\"text\"])).todense()\n",
    "    train_transformed[key_count] = np.concatenate((np.array(train_text),np.array(data_train[[1]])),axis=1)\n",
    "    test_transformed[key_count] = np.concatenate((np.array(test_text),np.array(data_test[[1]])),axis=1)\n",
    "\n",
    "model = sklearn.neural_network.MLPRegressor(hidden_layer_sizes=(50,100),tol=0,max_iter = 50,learning_rate = \"invscaling\")\n",
    "\n",
    "for epoch in range(5,5001,50):\n",
    "    model.partial_fit(train_transformed[500],data_train[[0]][\"retweets\"])\n",
    "    \n",
    "    test_score.append(stats.spearmanr(model.predict(test_transformed[500]),data_test[[\"retweets\"]][\"retweets\"])[0])\n",
    "    train_score.append(stats.spearmanr(model.predict(train_transformed[500]),data_train[[\"retweets\"]][\"retweets\"])[0])\n",
    "    epochs.append(epoch)\n",
    "    print(\".\",end='')"
   ]
  },
  {
   "cell_type": "code",
   "execution_count": 20,
   "metadata": {
    "collapsed": false
   },
   "outputs": [
    {
     "data": {
      "image/png": "[encoded data removed]",
      "text/plain": [
       "<matplotlib.figure.Figure at 0x106a2c780>"
      ]
     },
     "metadata": {},
     "output_type": "display_data"
    }
   ],
   "source": [
    "plt.plot(epochs,train_score,'r')\n",
    "plt.plot(epochs,test_score,'b')\n",
    "plt.show()"
   ]
  },
  {
   "cell_type": "markdown",
   "metadata": {},
   "source": [
    "Let's also run the garbage collector on the intermediataries."
   ]
  },
  {
   "cell_type": "code",
   "execution_count": null,
   "metadata": {
    "collapsed": false
   },
   "outputs": [],
   "source": [
    "import gc\n",
    "\n",
    "train_transformed = None\n",
    "test_transformed = None\n",
    "print(str(gc.collect())+\" objects collected.\")"
   ]
  },
  {
   "cell_type": "code",
   "execution_count": null,
   "metadata": {
    "collapsed": true
   },
   "outputs": [],
   "source": []
  },
  {
   "cell_type": "code",
   "execution_count": null,
   "metadata": {
    "collapsed": true
   },
   "outputs": [],
   "source": []
  }
 ],
 "metadata": {
  "kernelspec": {
   "display_name": "Python 3",
   "language": "python",
   "name": "python3"
  },
  "language_info": {
   "codemirror_mode": {
    "name": "ipython",
    "version": 3
   },
   "file_extension": ".py",
   "mimetype": "text/x-python",
   "name": "python",
   "nbconvert_exporter": "python",
   "pygments_lexer": "ipython3",
   "version": "3.5.1"
  }
 },
 "nbformat": 4,
 "nbformat_minor": 0
}
